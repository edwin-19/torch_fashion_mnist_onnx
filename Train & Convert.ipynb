{
 "cells": [
  {
   "cell_type": "code",
   "execution_count": 1,
   "metadata": {},
   "outputs": [],
   "source": [
    "import idx2numpy\n",
    "import cv2\n",
    "import numpy as np\n",
    "from matplotlib import pyplot as plt\n",
    "from tqdm.notebook import tqdm"
   ]
  },
  {
   "cell_type": "code",
   "execution_count": 2,
   "metadata": {},
   "outputs": [],
   "source": [
    "from sklearn.metrics import accuracy_score, confusion_matrix, classification_report"
   ]
  },
  {
   "cell_type": "code",
   "execution_count": 3,
   "metadata": {},
   "outputs": [],
   "source": [
    "from torch.utils.data import Dataset, DataLoader, RandomSampler, SequentialSampler\n",
    "import torch\n",
    "import torch.nn as nn\n",
    "import torch.nn.functional as F\n",
    "import torch.optim as optim\n",
    "from torch.optim.lr_scheduler import StepLR"
   ]
  },
  {
   "cell_type": "code",
   "execution_count": 4,
   "metadata": {},
   "outputs": [],
   "source": [
    "train_images = idx2numpy.convert_from_file('data/raw/train-images-idx3-ubyte')\n",
    "train_labels = idx2numpy.convert_from_file('data/raw/train-labels-idx1-ubyte')\n",
    "test_images = idx2numpy.convert_from_file('data/raw/t10k-images-idx3-ubyte')\n",
    "test_labels = idx2numpy.convert_from_file('data/raw/t10k-labels-idx1-ubyte')"
   ]
  },
  {
   "cell_type": "code",
   "execution_count": 5,
   "metadata": {},
   "outputs": [
    {
     "name": "stdout",
     "output_type": "stream",
     "text": [
      "Detect GPU: GeForce GTX 1080\n"
     ]
    }
   ],
   "source": [
    "# Check if cuda is avilable in torch\n",
    "if torch.cuda.is_available():\n",
    "    print(\"Detect GPU: {}\".format(torch.cuda.get_device_name()))\n",
    "    device = torch.device('cuda')\n",
    "else:\n",
    "    print('No GPU Detected')\n",
    "    device = torch.device('cpu')"
   ]
  },
  {
   "cell_type": "code",
   "execution_count": 6,
   "metadata": {},
   "outputs": [],
   "source": [
    "batch_size = 64\n",
    "epochs = 25\n",
    "learning_rate = 1e-04"
   ]
  },
  {
   "cell_type": "markdown",
   "metadata": {},
   "source": [
    "# Prepare data"
   ]
  },
  {
   "cell_type": "code",
   "execution_count": 7,
   "metadata": {},
   "outputs": [],
   "source": [
    "class FashinMnistDataSet(Dataset):\n",
    "    def __init__(self, images, labels, transform=None):\n",
    "        self.images = images\n",
    "        self.labels = labels\n",
    "        self.transform = transform\n",
    "        \n",
    "    def __len__(self):\n",
    "        return len(self.labels)\n",
    "    \n",
    "    def __getitem__(self, idx):\n",
    "        images = self.images[idx, :]\n",
    "        images = images / 255.\n",
    "        images = np.expand_dims(images, axis=0)\n",
    "        label = self.labels[idx]\n",
    "        \n",
    "        data = {\n",
    "            'images': torch.tensor(images, dtype=torch.float), 'label': torch.tensor(label, dtype=torch.long)\n",
    "        }\n",
    "        return data"
   ]
  },
  {
   "cell_type": "code",
   "execution_count": 8,
   "metadata": {},
   "outputs": [],
   "source": [
    "train_set = FashinMnistDataSet(train_images, train_labels)\n",
    "test_set = FashinMnistDataSet(test_images, test_labels)"
   ]
  },
  {
   "cell_type": "code",
   "execution_count": 9,
   "metadata": {},
   "outputs": [],
   "source": [
    "train_sampler = RandomSampler(train_set)\n",
    "training_loader = DataLoader(train_set, sampler=train_sampler, batch_size=batch_size)\n",
    "\n",
    "test_sample = SequentialSampler(test_set)\n",
    "test_loader = DataLoader(test_set, sampler=test_sample, batch_size=batch_size)"
   ]
  },
  {
   "cell_type": "markdown",
   "metadata": {},
   "source": [
    "# Build model"
   ]
  },
  {
   "cell_type": "code",
   "execution_count": 10,
   "metadata": {},
   "outputs": [],
   "source": [
    "class SimpleCNN(nn.Module):\n",
    "    def __init__(self):\n",
    "        super(SimpleCNN, self).__init__()\n",
    "        self.conv1 = nn.Conv2d(1, 32, 3, 1)\n",
    "        self.conv2 = nn.Conv2d(32, 64, 3, 1)\n",
    "        self.conv3 = nn.Conv2d(64, 128, 3, 1)\n",
    "        \n",
    "        self.dropout1 = nn.Dropout(0.25)\n",
    "        self.dropout2 = nn.Dropout(0.5)\n",
    "        \n",
    "        self.fc1 = nn.Linear(3200, 256)\n",
    "        self.fc2 = nn.Linear(256, 10)\n",
    "        \n",
    "    def forward(self, x):\n",
    "        x = self.conv1(x)\n",
    "        x = F.relu(x)\n",
    "        \n",
    "        x = self.conv2(x)\n",
    "        x = F.relu(x)\n",
    "        x = F.max_pool2d(x, 2)\n",
    "        x = self.dropout1(x)\n",
    "        \n",
    "        x = self.conv3(x)\n",
    "        x = F.relu(x)\n",
    "        x = F.max_pool2d(x, 2)\n",
    "        x = self.dropout1(x)\n",
    "        \n",
    "        x = torch.flatten(x, 1)\n",
    "        x = self.fc1(x)\n",
    "        x = F.relu(x)\n",
    "        x = self.dropout2(x)\n",
    "        x = self.fc2(x)\n",
    "        output = F.log_softmax(x, dim=1)\n",
    "        \n",
    "        return output"
   ]
  },
  {
   "cell_type": "code",
   "execution_count": 11,
   "metadata": {},
   "outputs": [
    {
     "data": {
      "text/plain": [
       "SimpleCNN(\n",
       "  (conv1): Conv2d(1, 32, kernel_size=(3, 3), stride=(1, 1))\n",
       "  (conv2): Conv2d(32, 64, kernel_size=(3, 3), stride=(1, 1))\n",
       "  (conv3): Conv2d(64, 128, kernel_size=(3, 3), stride=(1, 1))\n",
       "  (dropout1): Dropout(p=0.25, inplace=False)\n",
       "  (dropout2): Dropout(p=0.5, inplace=False)\n",
       "  (fc1): Linear(in_features=3200, out_features=256, bias=True)\n",
       "  (fc2): Linear(in_features=256, out_features=10, bias=True)\n",
       ")"
      ]
     },
     "execution_count": 11,
     "metadata": {},
     "output_type": "execute_result"
    }
   ],
   "source": [
    "model = SimpleCNN()\n",
    "model.to(device)"
   ]
  },
  {
   "cell_type": "code",
   "execution_count": 12,
   "metadata": {},
   "outputs": [
    {
     "data": {
      "application/vnd.jupyter.widget-view+json": {
       "model_id": "a0554ae3694e4b58b63b6219f9d7275b",
       "version_major": 2,
       "version_minor": 0
      },
      "text/plain": [
       "HBox(children=(FloatProgress(value=0.0, max=25.0), HTML(value='')))"
      ]
     },
     "metadata": {},
     "output_type": "display_data"
    },
    {
     "name": "stdout",
     "output_type": "stream",
     "text": [
      "[Epoch 1] loss: 0.810\n",
      "Accuracy of the network on test images: 78.840 %\n",
      "[Epoch 2] loss: 0.518\n",
      "Accuracy of the network on test images: 83.900 %\n",
      "[Epoch 3] loss: 0.450\n",
      "Accuracy of the network on test images: 85.250 %\n",
      "[Epoch 4] loss: 0.406\n",
      "Accuracy of the network on test images: 86.550 %\n",
      "[Epoch 5] loss: 0.376\n",
      "Accuracy of the network on test images: 87.320 %\n",
      "[Epoch 6] loss: 0.353\n",
      "Accuracy of the network on test images: 87.870 %\n",
      "[Epoch 7] loss: 0.335\n",
      "Accuracy of the network on test images: 88.420 %\n",
      "[Epoch 8] loss: 0.321\n",
      "Accuracy of the network on test images: 88.630 %\n",
      "[Epoch 9] loss: 0.310\n",
      "Accuracy of the network on test images: 89.270 %\n",
      "[Epoch 10] loss: 0.299\n",
      "Accuracy of the network on test images: 89.540 %\n",
      "[Epoch 11] loss: 0.291\n",
      "Accuracy of the network on test images: 89.800 %\n",
      "[Epoch 12] loss: 0.283\n",
      "Accuracy of the network on test images: 90.090 %\n",
      "[Epoch 13] loss: 0.273\n",
      "Accuracy of the network on test images: 90.210 %\n",
      "[Epoch 14] loss: 0.267\n",
      "Accuracy of the network on test images: 90.430 %\n",
      "[Epoch 15] loss: 0.260\n",
      "Accuracy of the network on test images: 90.500 %\n",
      "[Epoch 16] loss: 0.252\n",
      "Accuracy of the network on test images: 90.710 %\n",
      "[Epoch 17] loss: 0.244\n",
      "Accuracy of the network on test images: 90.760 %\n",
      "[Epoch 18] loss: 0.242\n",
      "Accuracy of the network on test images: 91.130 %\n",
      "[Epoch 19] loss: 0.235\n",
      "Accuracy of the network on test images: 91.090 %\n",
      "[Epoch 20] loss: 0.230\n",
      "Accuracy of the network on test images: 91.040 %\n",
      "[Epoch 21] loss: 0.223\n",
      "Accuracy of the network on test images: 91.510 %\n",
      "[Epoch 22] loss: 0.218\n",
      "Accuracy of the network on test images: 91.610 %\n",
      "[Epoch 23] loss: 0.215\n",
      "Accuracy of the network on test images: 91.720 %\n",
      "[Epoch 24] loss: 0.208\n",
      "Accuracy of the network on test images: 91.930 %\n",
      "[Epoch 25] loss: 0.206\n",
      "Accuracy of the network on test images: 91.890 %\n",
      "\n"
     ]
    }
   ],
   "source": [
    "optimizer = optim.Adam(model.parameters(), lr=learning_rate)\n",
    "scheduler = StepLR(optimizer, step_size=1, gamma=0.7)\n",
    "criterion = nn.CrossEntropyLoss()\n",
    "\n",
    "for i in tqdm(range(epochs)):\n",
    "    # Training\n",
    "    model.train()\n",
    "    running_loss = 0\n",
    "    for index, data in enumerate(training_loader):\n",
    "        images = data['images'].to(device)\n",
    "        labels = data['label'].to(device)\n",
    "        \n",
    "        optimizer.zero_grad()\n",
    "        output = model(images)\n",
    "        loss = criterion(output, labels)\n",
    "        \n",
    "        loss.backward()\n",
    "        \n",
    "        optimizer.step()\n",
    "        running_loss += loss.item()\n",
    "        \n",
    "    print('[Epoch %d] loss: %.3f' %\n",
    "                      (i + 1, running_loss/len(training_loader)))\n",
    "    \n",
    "    # Validation\n",
    "    model.eval()\n",
    "    correct = 0\n",
    "    total = 0\n",
    "    with torch.no_grad():\n",
    "        for index, data in enumerate(test_loader):\n",
    "            images, labels = data['images'].to(device), data['label']\n",
    "            outputs = model(images)\n",
    "            _, predicted = torch.max(outputs.data, 1)\n",
    "            predicted = predicted.detach().cpu()\n",
    "            total += labels.size(0)\n",
    "            correct += (predicted == labels).sum().item()\n",
    "                \n",
    "    print('Accuracy of the network on test images: %0.3f %%' % (\n",
    "        100 * correct / total))"
   ]
  },
  {
   "cell_type": "markdown",
   "metadata": {},
   "source": [
    "# Evaluate model"
   ]
  },
  {
   "cell_type": "code",
   "execution_count": 13,
   "metadata": {},
   "outputs": [],
   "source": [
    "batch_inf_imgs = []\n",
    "for test_image in test_images:\n",
    "    test_image = test_image / 255.\n",
    "    test_image = np.expand_dims(test_image, axis=0)\n",
    "    batch_inf_imgs.append(test_image)"
   ]
  },
  {
   "cell_type": "code",
   "execution_count": 14,
   "metadata": {
    "scrolled": true
   },
   "outputs": [],
   "source": [
    "batch_inf_imgs = torch.tensor(batch_inf_imgs, dtype=torch.float).to(device)\n",
    "model.eval()\n",
    "with torch.no_grad():\n",
    "    y_pred = model(batch_inf_imgs)\n",
    "    _, y_pred = torch.max(y_pred.data, 1)\n",
    "\n",
    "    y_pred = y_pred.detach().cpu().numpy()\n",
    "\n",
    "y_true = test_labels"
   ]
  },
  {
   "cell_type": "code",
   "execution_count": 15,
   "metadata": {
    "scrolled": true
   },
   "outputs": [
    {
     "name": "stdout",
     "output_type": "stream",
     "text": [
      "              precision    recall  f1-score   support\n",
      "\n",
      "           0       0.86      0.88      0.87      1000\n",
      "           1       1.00      0.98      0.99      1000\n",
      "           2       0.89      0.88      0.89      1000\n",
      "           3       0.91      0.93      0.92      1000\n",
      "           4       0.86      0.89      0.87      1000\n",
      "           5       0.98      0.98      0.98      1000\n",
      "           6       0.78      0.74      0.76      1000\n",
      "           7       0.95      0.97      0.96      1000\n",
      "           8       0.98      0.98      0.98      1000\n",
      "           9       0.98      0.96      0.97      1000\n",
      "\n",
      "    accuracy                           0.92     10000\n",
      "   macro avg       0.92      0.92      0.92     10000\n",
      "weighted avg       0.92      0.92      0.92     10000\n",
      "\n"
     ]
    }
   ],
   "source": [
    "print(classification_report(y_true, y_pred))"
   ]
  },
  {
   "cell_type": "markdown",
   "metadata": {},
   "source": [
    "# Save model as torch"
   ]
  },
  {
   "cell_type": "code",
   "execution_count": 18,
   "metadata": {},
   "outputs": [],
   "source": [
    "torch.save(model.state_dict(), 'simple_cnn.pth')"
   ]
  },
  {
   "cell_type": "markdown",
   "metadata": {},
   "source": [
    "# Convert to ONNX"
   ]
  },
  {
   "cell_type": "code",
   "execution_count": 16,
   "metadata": {},
   "outputs": [],
   "source": [
    "x = torch.randn(batch_size, 1, 28, 28, requires_grad=True).to(device)\n",
    "output = model(x)"
   ]
  },
  {
   "cell_type": "code",
   "execution_count": 17,
   "metadata": {},
   "outputs": [],
   "source": [
    "torch.onnx.export(\n",
    "    model,\n",
    "    x, 'fashion_mnist.onnx', export_params=True,\n",
    "    opset_version=10, do_constant_folding=True,\n",
    "    input_names=['input'], output_names=['output'],\n",
    "     dynamic_axes={'input' : {0 : 'batch_size'},    # variable lenght axes\n",
    "                'output' : {0 : 'batch_size'}}\n",
    ")"
   ]
  }
 ],
 "metadata": {
  "kernelspec": {
   "display_name": "Python 3",
   "language": "python",
   "name": "python3"
  },
  "language_info": {
   "codemirror_mode": {
    "name": "ipython",
    "version": 3
   },
   "file_extension": ".py",
   "mimetype": "text/x-python",
   "name": "python",
   "nbconvert_exporter": "python",
   "pygments_lexer": "ipython3",
   "version": "3.6.10"
  }
 },
 "nbformat": 4,
 "nbformat_minor": 2
}
