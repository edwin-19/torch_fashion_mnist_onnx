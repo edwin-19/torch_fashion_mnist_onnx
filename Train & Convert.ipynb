{
 "cells": [
  {
   "cell_type": "code",
   "execution_count": 1,
   "metadata": {},
   "outputs": [],
   "source": [
    "import idx2numpy\n",
    "import cv2\n",
    "import numpy as np\n",
    "from matplotlib import pyplot as plt\n",
    "from tqdm.notebook import tqdm\n",
    "from sklearn.metrics import accuracy_score, confusion_matrix, classification_report"
   ]
  },
  {
   "cell_type": "code",
   "execution_count": 2,
   "metadata": {},
   "outputs": [],
   "source": [
    "from torch.utils.data import Dataset, DataLoader, RandomSampler, SequentialSampler\n",
    "import torch\n",
    "import torch.nn as nn\n",
    "import torch.nn.functional as F\n",
    "import torch.optim as optim\n",
    "from torch.optim.lr_scheduler import StepLR\n",
    "import torchvision"
   ]
  },
  {
   "cell_type": "code",
   "execution_count": 3,
   "metadata": {},
   "outputs": [],
   "source": [
    "train_images = idx2numpy.convert_from_file('data/raw/train-images-idx3-ubyte')\n",
    "train_labels = idx2numpy.convert_from_file('data/raw/train-labels-idx1-ubyte')\n",
    "test_images = idx2numpy.convert_from_file('data/raw/t10k-images-idx3-ubyte')\n",
    "test_labels = idx2numpy.convert_from_file('data/raw/t10k-labels-idx1-ubyte')"
   ]
  },
  {
   "cell_type": "code",
   "execution_count": 4,
   "metadata": {},
   "outputs": [
    {
     "name": "stdout",
     "output_type": "stream",
     "text": [
      "Detect GPU: GeForce GTX 1080\n"
     ]
    }
   ],
   "source": [
    "# Check if cuda is avilable in torch\n",
    "if torch.cuda.is_available():\n",
    "    print(\"Detect GPU: {}\".format(torch.cuda.get_device_name()))\n",
    "    device = torch.device('cuda')\n",
    "else:\n",
    "    print('No GPU Detected')\n",
    "    device = torch.device('cpu')"
   ]
  },
  {
   "cell_type": "code",
   "execution_count": 5,
   "metadata": {},
   "outputs": [],
   "source": [
    "batch_size = 128\n",
    "epochs = 10\n",
    "learning_rate = 1e-04\n",
    "is_transfer_learning = True"
   ]
  },
  {
   "cell_type": "markdown",
   "metadata": {},
   "source": [
    "# Prepare data"
   ]
  },
  {
   "cell_type": "code",
   "execution_count": 6,
   "metadata": {},
   "outputs": [],
   "source": [
    "class FashinMnistDataSet(Dataset):\n",
    "    def __init__(self, images, labels, transform=None):\n",
    "        self.images = images\n",
    "        self.labels = labels\n",
    "        self.transform = transform\n",
    "        \n",
    "    def __len__(self):\n",
    "        return len(self.labels)\n",
    "    \n",
    "    def __getitem__(self, idx):\n",
    "        images = self.images[idx, :]\n",
    "        images = images / 255.\n",
    "        images = np.expand_dims(images, axis=0)\n",
    "        label = self.labels[idx]\n",
    "        \n",
    "        data = {\n",
    "            'images': torch.tensor(images, dtype=torch.float), 'label': torch.tensor(label, dtype=torch.long)\n",
    "        }\n",
    "        return data"
   ]
  },
  {
   "cell_type": "code",
   "execution_count": 7,
   "metadata": {},
   "outputs": [],
   "source": [
    "train_set = FashinMnistDataSet(train_images, train_labels)\n",
    "test_set = FashinMnistDataSet(test_images, test_labels)"
   ]
  },
  {
   "cell_type": "code",
   "execution_count": 8,
   "metadata": {},
   "outputs": [],
   "source": [
    "train_sampler = RandomSampler(train_set)\n",
    "training_loader = DataLoader(train_set, sampler=train_sampler, batch_size=batch_size)\n",
    "\n",
    "test_sample = SequentialSampler(test_set)\n",
    "test_loader = DataLoader(test_set, sampler=test_sample, batch_size=batch_size)"
   ]
  },
  {
   "cell_type": "markdown",
   "metadata": {},
   "source": [
    "# Build model"
   ]
  },
  {
   "cell_type": "code",
   "execution_count": 9,
   "metadata": {},
   "outputs": [],
   "source": [
    "class SimpleCNN(nn.Module):\n",
    "    def __init__(self):\n",
    "        super(SimpleCNN, self).__init__()\n",
    "        self.conv1 = nn.Conv2d(1, 32, 3, 1)\n",
    "        self.conv2 = nn.Conv2d(32, 64, 3, 1)\n",
    "        self.conv3 = nn.Conv2d(64, 128, 3, 1)\n",
    "        \n",
    "        self.dropout1 = nn.Dropout(0.25)\n",
    "        self.dropout2 = nn.Dropout(0.5)\n",
    "        \n",
    "        self.fc1 = nn.Linear(3200, 256)\n",
    "        self.fc2 = nn.Linear(256, 10)\n",
    "        \n",
    "    def forward(self, x):\n",
    "        x = self.conv1(x)\n",
    "        x = F.relu(x)\n",
    "        \n",
    "        x = self.conv2(x)\n",
    "        x = F.relu(x)\n",
    "        x = F.max_pool2d(x, 2)\n",
    "        x = self.dropout1(x)\n",
    "        \n",
    "        x = self.conv3(x)\n",
    "        x = F.relu(x)\n",
    "        x = F.max_pool2d(x, 2)\n",
    "        x = self.dropout1(x)\n",
    "        \n",
    "        x = torch.flatten(x, 1)\n",
    "        x = self.fc1(x)\n",
    "        x = F.relu(x)\n",
    "        x = self.dropout2(x)\n",
    "        x = self.fc2(x)\n",
    "        output = F.log_softmax(x, dim=1)\n",
    "        \n",
    "        return output"
   ]
  },
  {
   "cell_type": "code",
   "execution_count": 10,
   "metadata": {},
   "outputs": [],
   "source": [
    "if is_transfer_learning:\n",
    "    model = torchvision.models.resnet50(pretrained=True)\n",
    "    # Freeze model weights\n",
    "    for param in model.parameters():\n",
    "        param.requires_grad = False\n",
    "    \n",
    "    model.conv1 = nn.Conv2d(1, 64, 3, 1)\n",
    "    in_features = model.fc.in_features\n",
    "    model.fc = nn.Sequential(\n",
    "        nn.Linear(in_features, 1024),\n",
    "        nn.ReLU(),\n",
    "        nn.Dropout(0.5),\n",
    "        nn.Linear(1024, 10),\n",
    "        nn.LogSoftmax(dim=1)\n",
    "    )\n",
    "    model.to(device)\n",
    "else:\n",
    "    model = SimpleCNN()\n",
    "    model.to(device)"
   ]
  },
  {
   "cell_type": "code",
   "execution_count": 11,
   "metadata": {},
   "outputs": [
    {
     "data": {
      "application/vnd.jupyter.widget-view+json": {
       "model_id": "e97537bd284b4a018750fc4d3db51468",
       "version_major": 2,
       "version_minor": 0
      },
      "text/plain": [
       "HBox(children=(FloatProgress(value=0.0, max=10.0), HTML(value='')))"
      ]
     },
     "metadata": {},
     "output_type": "display_data"
    },
    {
     "name": "stdout",
     "output_type": "stream",
     "text": [
      "[Epoch 1] loss: 0.998\n",
      "Accuracy of the network on test images: 73.250 %\n",
      "[Epoch 2] loss: 0.742\n",
      "Accuracy of the network on test images: 75.350 %\n",
      "[Epoch 3] loss: 0.676\n",
      "Accuracy of the network on test images: 76.820 %\n",
      "[Epoch 4] loss: 0.630\n",
      "Accuracy of the network on test images: 77.240 %\n",
      "[Epoch 5] loss: 0.603\n",
      "Accuracy of the network on test images: 78.050 %\n",
      "[Epoch 6] loss: 0.574\n",
      "Accuracy of the network on test images: 78.680 %\n",
      "[Epoch 7] loss: 0.552\n",
      "Accuracy of the network on test images: 78.960 %\n",
      "[Epoch 8] loss: 0.533\n",
      "Accuracy of the network on test images: 79.460 %\n",
      "[Epoch 9] loss: 0.514\n",
      "Accuracy of the network on test images: 79.800 %\n",
      "[Epoch 10] loss: 0.499\n",
      "Accuracy of the network on test images: 80.150 %\n",
      "\n"
     ]
    }
   ],
   "source": [
    "optimizer = optim.Adam(model.parameters(), lr=learning_rate)\n",
    "scheduler = StepLR(optimizer, step_size=1, gamma=0.7)\n",
    "criterion = nn.CrossEntropyLoss()\n",
    "\n",
    "for i in tqdm(range(epochs)):\n",
    "    # Training\n",
    "    model.train()\n",
    "    running_loss = 0\n",
    "    for index, data in enumerate(training_loader):\n",
    "        images = data['images'].to(device)\n",
    "        labels = data['label'].to(device)\n",
    "        \n",
    "        optimizer.zero_grad()\n",
    "        output = model(images)\n",
    "        loss = criterion(output, labels)\n",
    "        \n",
    "        loss.backward()\n",
    "        \n",
    "        optimizer.step()\n",
    "        running_loss += loss.item()\n",
    "        \n",
    "    print('[Epoch %d] loss: %.3f' %\n",
    "                      (i + 1, running_loss/len(training_loader)))\n",
    "    \n",
    "    # Validation\n",
    "    model.eval()\n",
    "    correct = 0\n",
    "    total = 0\n",
    "    with torch.no_grad():\n",
    "        for index, data in enumerate(test_loader):\n",
    "            images, labels = data['images'].to(device), data['label']\n",
    "            outputs = model(images)\n",
    "            _, predicted = torch.max(outputs.data, 1)\n",
    "            predicted = predicted.detach().cpu()\n",
    "            total += labels.size(0)\n",
    "            correct += (predicted == labels).sum().item()\n",
    "                \n",
    "    print('Accuracy of the network on test images: %0.3f %%' % (\n",
    "        100 * correct / total))"
   ]
  },
  {
   "cell_type": "markdown",
   "metadata": {},
   "source": [
    "# Evaluate model"
   ]
  },
  {
   "cell_type": "code",
   "execution_count": 12,
   "metadata": {},
   "outputs": [],
   "source": [
    "batch_inf_imgs = []\n",
    "for test_image in test_images:\n",
    "    test_image = test_image / 255.\n",
    "    test_image = np.expand_dims(test_image, axis=0)\n",
    "    batch_inf_imgs.append(test_image)"
   ]
  },
  {
   "cell_type": "code",
   "execution_count": 13,
   "metadata": {
    "scrolled": true
   },
   "outputs": [],
   "source": [
    "batch_inf_imgs = torch.tensor(batch_inf_imgs, dtype=torch.float).to(device)\n",
    "model.eval()\n",
    "with torch.no_grad():\n",
    "    y_pred = model(batch_inf_imgs)\n",
    "    _, y_pred = torch.max(y_pred.data, 1)\n",
    "\n",
    "    y_pred = y_pred.detach().cpu().numpy()\n",
    "\n",
    "y_true = test_labels"
   ]
  },
  {
   "cell_type": "code",
   "execution_count": 14,
   "metadata": {
    "scrolled": true
   },
   "outputs": [
    {
     "name": "stdout",
     "output_type": "stream",
     "text": [
      "              precision    recall  f1-score   support\n",
      "\n",
      "           0       0.77      0.73      0.75      1000\n",
      "           1       0.93      0.95      0.94      1000\n",
      "           2       0.71      0.70      0.71      1000\n",
      "           3       0.77      0.79      0.78      1000\n",
      "           4       0.69      0.69      0.69      1000\n",
      "           5       0.95      0.86      0.90      1000\n",
      "           6       0.53      0.53      0.53      1000\n",
      "           7       0.85      0.93      0.89      1000\n",
      "           8       0.90      0.92      0.91      1000\n",
      "           9       0.91      0.92      0.91      1000\n",
      "\n",
      "    accuracy                           0.80     10000\n",
      "   macro avg       0.80      0.80      0.80     10000\n",
      "weighted avg       0.80      0.80      0.80     10000\n",
      "\n"
     ]
    }
   ],
   "source": [
    "print(classification_report(y_true, y_pred))"
   ]
  },
  {
   "cell_type": "markdown",
   "metadata": {},
   "source": [
    "# Save model as torch"
   ]
  },
  {
   "cell_type": "code",
   "execution_count": 15,
   "metadata": {},
   "outputs": [],
   "source": [
    "if not is_transfer_learning:\n",
    "    torch.save(model.state_dict(), 'simple_cnn.pth')\n",
    "else:\n",
    "    torch.save(model.state_dict(), 'resnet_cnn.pth')"
   ]
  },
  {
   "cell_type": "markdown",
   "metadata": {},
   "source": [
    "# Convert to ONNX"
   ]
  },
  {
   "cell_type": "code",
   "execution_count": 16,
   "metadata": {},
   "outputs": [],
   "source": [
    "x = torch.randn(batch_size, 1, 28, 28, requires_grad=True).to(device)\n",
    "output = model(x)"
   ]
  },
  {
   "cell_type": "code",
   "execution_count": 17,
   "metadata": {},
   "outputs": [],
   "source": [
    "torch.onnx.export(\n",
    "    model,\n",
    "    x, 'resnet_fashion_mnist.onnx', export_params=True,\n",
    "    opset_version=10, do_constant_folding=True,\n",
    "    input_names=['input'], output_names=['output'],\n",
    "     dynamic_axes={'input' : {0 : 'batch_size'},    # variable lenght axes\n",
    "                'output' : {0 : 'batch_size'}}\n",
    ")"
   ]
  }
 ],
 "metadata": {
  "kernelspec": {
   "display_name": "Python 3",
   "language": "python",
   "name": "python3"
  },
  "language_info": {
   "codemirror_mode": {
    "name": "ipython",
    "version": 3
   },
   "file_extension": ".py",
   "mimetype": "text/x-python",
   "name": "python",
   "nbconvert_exporter": "python",
   "pygments_lexer": "ipython3",
   "version": "3.6.10"
  }
 },
 "nbformat": 4,
 "nbformat_minor": 2
}
