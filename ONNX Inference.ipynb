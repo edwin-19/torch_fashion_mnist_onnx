{
 "cells": [
  {
   "cell_type": "code",
   "execution_count": 1,
   "metadata": {},
   "outputs": [],
   "source": [
    "from sklearn.metrics import classification_report\n",
    "\n",
    "import onnx\n",
    "import onnxruntime\n",
    "import idx2numpy\n",
    "import cv2\n",
    "import numpy as np\n",
    "\n",
    "from matplotlib import pyplot as plt"
   ]
  },
  {
   "cell_type": "code",
   "execution_count": 2,
   "metadata": {},
   "outputs": [],
   "source": [
    "onnx_model = onnx.load(\"resnet_fashion_mnist.onnx\")\n",
    "onnx.checker.check_model(onnx_model)"
   ]
  },
  {
   "cell_type": "code",
   "execution_count": 3,
   "metadata": {},
   "outputs": [],
   "source": [
    "sess_options = onnxruntime.SessionOptions()\n",
    "sess = onnxruntime.InferenceSession('resnet_fashion_mnist.onnx', sess_options)"
   ]
  },
  {
   "cell_type": "code",
   "execution_count": 4,
   "metadata": {},
   "outputs": [
    {
     "name": "stdout",
     "output_type": "stream",
     "text": [
      "input name input\n",
      "input shape ['batch_size', 1, 28, 28]\n",
      "input type tensor(float)\n"
     ]
    }
   ],
   "source": [
    "input_name = sess.get_inputs()[0].name\n",
    "print(\"input name\", input_name)\n",
    "input_shape = sess.get_inputs()[0].shape\n",
    "print(\"input shape\", input_shape)\n",
    "input_type = sess.get_inputs()[0].type\n",
    "print(\"input type\", input_type)"
   ]
  },
  {
   "cell_type": "code",
   "execution_count": 5,
   "metadata": {},
   "outputs": [
    {
     "name": "stdout",
     "output_type": "stream",
     "text": [
      "output name output\n",
      "output shape ['batch_size', 10]\n",
      "output type tensor(float)\n"
     ]
    }
   ],
   "source": [
    "output_name = sess.get_outputs()[0].name\n",
    "print(\"output name\", output_name)\n",
    "output_shape = sess.get_outputs()[0].shape\n",
    "print(\"output shape\", output_shape)\n",
    "output_type = sess.get_outputs()[0].type\n",
    "print(\"output type\", output_type)"
   ]
  },
  {
   "cell_type": "code",
   "execution_count": 6,
   "metadata": {},
   "outputs": [],
   "source": [
    "test_images = idx2numpy.convert_from_file('data/raw/t10k-images-idx3-ubyte')\n",
    "test_labels = idx2numpy.convert_from_file('data/raw/t10k-labels-idx1-ubyte')"
   ]
  },
  {
   "cell_type": "markdown",
   "metadata": {},
   "source": [
    "# Batch Inference"
   ]
  },
  {
   "cell_type": "code",
   "execution_count": 7,
   "metadata": {},
   "outputs": [],
   "source": [
    "batch_inf_imgs = []\n",
    "for test_image in test_images:\n",
    "    test_image = test_image / 255.\n",
    "    test_image = test_image.astype(np.float32)\n",
    "    test_image = np.expand_dims(test_image, axis=0)\n",
    "    batch_inf_imgs.append(test_image)\n",
    "\n",
    "batch_inf_imgs = np.array(batch_inf_imgs)"
   ]
  },
  {
   "cell_type": "code",
   "execution_count": 13,
   "metadata": {},
   "outputs": [],
   "source": [
    "y_pred = []\n",
    "for img in batch_inf_imgs:\n",
    "    results = sess.run([output_name], {input_name: np.expand_dims(img, axis=0)})[0]\n",
    "    y_pred.append(np.argmax(results))"
   ]
  },
  {
   "cell_type": "code",
   "execution_count": 14,
   "metadata": {},
   "outputs": [],
   "source": [
    "# y_pred = np.argmax(results, 1)\n",
    "y_true = test_labels"
   ]
  },
  {
   "cell_type": "code",
   "execution_count": 15,
   "metadata": {
    "scrolled": true
   },
   "outputs": [
    {
     "name": "stdout",
     "output_type": "stream",
     "text": [
      "              precision    recall  f1-score   support\n",
      "\n",
      "           0       0.77      0.73      0.75      1000\n",
      "           1       0.93      0.95      0.94      1000\n",
      "           2       0.71      0.70      0.71      1000\n",
      "           3       0.77      0.79      0.78      1000\n",
      "           4       0.69      0.69      0.69      1000\n",
      "           5       0.95      0.86      0.90      1000\n",
      "           6       0.53      0.53      0.53      1000\n",
      "           7       0.85      0.93      0.89      1000\n",
      "           8       0.90      0.92      0.91      1000\n",
      "           9       0.91      0.92      0.91      1000\n",
      "\n",
      "    accuracy                           0.80     10000\n",
      "   macro avg       0.80      0.80      0.80     10000\n",
      "weighted avg       0.80      0.80      0.80     10000\n",
      "\n"
     ]
    }
   ],
   "source": [
    "print(classification_report(y_true, y_pred))"
   ]
  },
  {
   "cell_type": "markdown",
   "metadata": {},
   "source": [
    "# Single Inference"
   ]
  },
  {
   "cell_type": "code",
   "execution_count": 16,
   "metadata": {},
   "outputs": [],
   "source": [
    "labels = [\n",
    "    'T-shirt-Top',\n",
    "    'Trouser',\n",
    "    'Pullover',\n",
    "    'Dress',\n",
    "    'Coat',\n",
    "    'Sandal',\n",
    "    'Shirt',\n",
    "    'Sneaker',\n",
    "    'Bag',\n",
    "    'Ankle boot'\n",
    "]"
   ]
  },
  {
   "cell_type": "code",
   "execution_count": 22,
   "metadata": {},
   "outputs": [],
   "source": [
    "img = test_images[0]\n",
    "img = img / 255.\n",
    "img = img.astype(np.float32)\n",
    "img = np.expand_dims(img, axis=0)"
   ]
  },
  {
   "cell_type": "code",
   "execution_count": 25,
   "metadata": {},
   "outputs": [],
   "source": [
    "results = sess.run([output_name], {input_name: np.expand_dims(img, axis=0)})[0]"
   ]
  },
  {
   "cell_type": "code",
   "execution_count": 26,
   "metadata": {},
   "outputs": [
    {
     "data": {
      "text/plain": [
       "<matplotlib.image.AxesImage at 0x7f23295137b8>"
      ]
     },
     "execution_count": 26,
     "metadata": {},
     "output_type": "execute_result"
    },
    {
     "data": {
      "image/png": "[encoded data removed]",
      "text/plain": [
       "<Figure size 432x288 with 1 Axes>"
      ]
     },
     "metadata": {
      "needs_background": "light"
     },
     "output_type": "display_data"
    }
   ],
   "source": [
    "plt.title(labels[np.argmax(results[0])])\n",
    "plt.imshow(cv2.cvtColor(test_images[0], cv2.COLOR_GRAY2RGB))"
   ]
  }
 ],
 "metadata": {
  "kernelspec": {
   "display_name": "Python 3",
   "language": "python",
   "name": "python3"
  },
  "language_info": {
   "codemirror_mode": {
    "name": "ipython",
    "version": 3
   },
   "file_extension": ".py",
   "mimetype": "text/x-python",
   "name": "python",
   "nbconvert_exporter": "python",
   "pygments_lexer": "ipython3",
   "version": "3.6.10"
  }
 },
 "nbformat": 4,
 "nbformat_minor": 2
}
